jupyter notebook --no-browser --NotebookApp.allow_origin_pat=http://.*vscode-cdn\.net
